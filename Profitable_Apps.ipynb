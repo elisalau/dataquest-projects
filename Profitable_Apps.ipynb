{
 "cells": [
  {
   "cell_type": "markdown",
   "metadata": {},
   "source": [
    "# Data Analysis: Profitable App Profiles (App Store and Google Play Markets)\n",
    "\n",
    "What we want from this project is to use data to find what kinds of apps from Google Play and the App Store attract more users and make more profit. We are working as data analysts for a company that builds Android and iOS mobile apps.\n",
    "\n",
    "Our company only builds apps that are free to download and install, and our main source of revenue comes from in-app ads. In other words, our revenue is mostly influenced by the number of users that use our apps. For this project, our goal is to analyze data to help our team of developers understand the types of apps that attract more users and are hence more profitable."
   ]
  },
  {
   "cell_type": "markdown",
   "metadata": {},
   "source": [
    "## Opening and Exploring the Data"
   ]
  },
  {
   "cell_type": "code",
   "execution_count": 1,
   "metadata": {
    "collapsed": false
   },
   "outputs": [],
   "source": [
    "from csv import reader\n",
    "\n",
    "# Google Play Data Set\n",
    "opened_file = open('googleplaystore.csv')\n",
    "read_file = reader(opened_file)\n",
    "android = list(read_file)\n",
    "android_header = android[0]\n",
    "android = android[1:]\n",
    "\n",
    "# Apple Store Data Set\n",
    "opened_file = open('AppleStore.csv')\n",
    "read_file = reader(opened_file)\n",
    "ios = list(read_file)\n",
    "ios_header = ios[0]\n",
    "ios = ios[1:]"
   ]
  },
  {
   "cell_type": "markdown",
   "metadata": {},
   "source": [
    "Below is a function, written by Dataquest, named `explore_data()` that can be used repeatedly to print rows in a readable way. We can also print the number of row and columns if the argument passed to the parameter `rows_and_columns` is `True`."
   ]
  },
  {
   "cell_type": "code",
   "execution_count": 2,
   "metadata": {
    "collapsed": true
   },
   "outputs": [],
   "source": [
    "def explore_data(dataset, start, end, rows_and_columns=False):\n",
    "    dataset_slice = dataset[start:end]    \n",
    "    for row in dataset_slice:\n",
    "        print(row)\n",
    "        print('\\n') # adds a new (empty) line after each row\n",
    "\n",
    "    if rows_and_columns:\n",
    "        print('Number of rows:', len(dataset))\n",
    "        print('Number of columns:', len(dataset[0]))"
   ]
  },
  {
   "cell_type": "code",
   "execution_count": 3,
   "metadata": {
    "collapsed": false
   },
   "outputs": [
    {
     "name": "stdout",
     "output_type": "stream",
     "text": [
      "['App', 'Category', 'Rating', 'Reviews', 'Size', 'Installs', 'Type', 'Price', 'Content Rating', 'Genres', 'Last Updated', 'Current Ver', 'Android Ver']\n",
      "\n",
      "\n",
      "['Photo Editor & Candy Camera & Grid & ScrapBook', 'ART_AND_DESIGN', '4.1', '159', '19M', '10,000+', 'Free', '0', 'Everyone', 'Art & Design', 'January 7, 2018', '1.0.0', '4.0.3 and up']\n",
      "\n",
      "\n",
      "['Coloring book moana', 'ART_AND_DESIGN', '3.9', '967', '14M', '500,000+', 'Free', '0', 'Everyone', 'Art & Design;Pretend Play', 'January 15, 2018', '2.0.0', '4.0.3 and up']\n",
      "\n",
      "\n",
      "['U Launcher Lite – FREE Live Cool Themes, Hide Apps', 'ART_AND_DESIGN', '4.7', '87510', '8.7M', '5,000,000+', 'Free', '0', 'Everyone', 'Art & Design', 'August 1, 2018', '1.2.4', '4.0.3 and up']\n",
      "\n",
      "\n",
      "Number of rows: 10841\n",
      "Number of columns: 13\n"
     ]
    }
   ],
   "source": [
    "print(android_header)\n",
    "print('\\n')\n",
    "explore_data(android, 0, 3, True)"
   ]
  },
  {
   "cell_type": "markdown",
   "metadata": {},
   "source": [
    "The Google Play data set includes 10841 apps and 13 columns. Some columns that might help us with our analysis are: `'App'`, `'Category'`, `'Reviews'`, `'Installs'`, `'Type'`, `'Price'`, and `'Genres'`.\n",
    "\n",
    "For better descriptions of each of Google Play data set's column names, use this [documentation](https://www.kaggle.com/lava18/google-play-store-apps)."
   ]
  },
  {
   "cell_type": "code",
   "execution_count": 4,
   "metadata": {
    "collapsed": false
   },
   "outputs": [
    {
     "name": "stdout",
     "output_type": "stream",
     "text": [
      "['id', 'track_name', 'size_bytes', 'currency', 'price', 'rating_count_tot', 'rating_count_ver', 'user_rating', 'user_rating_ver', 'ver', 'cont_rating', 'prime_genre', 'sup_devices.num', 'ipadSc_urls.num', 'lang.num', 'vpp_lic']\n",
      "\n",
      "\n",
      "['284882215', 'Facebook', '389879808', 'USD', '0.0', '2974676', '212', '3.5', '3.5', '95.0', '4+', 'Social Networking', '37', '1', '29', '1']\n",
      "\n",
      "\n",
      "['389801252', 'Instagram', '113954816', 'USD', '0.0', '2161558', '1289', '4.5', '4.0', '10.23', '12+', 'Photo & Video', '37', '0', '29', '1']\n",
      "\n",
      "\n",
      "['529479190', 'Clash of Clans', '116476928', 'USD', '0.0', '2130805', '579', '4.5', '4.5', '9.24.12', '9+', 'Games', '38', '5', '18', '1']\n",
      "\n",
      "\n",
      "Number of rows: 7197\n",
      "Number of columns: 16\n"
     ]
    }
   ],
   "source": [
    "print(ios_header)\n",
    "print('\\n')\n",
    "explore_data(ios, 0, 3, True)"
   ]
  },
  {
   "cell_type": "markdown",
   "metadata": {},
   "source": [
    "The App Store data set includes 7197 apps and 16 columns. Some columns that might help us with our analysis are: `'track_name'`, `'currency'`, `'price'`, `'rating_count_tot'`, `'rating_count_ver'`, and `'prime_genre'`.\n",
    "\n",
    "For better descriptions of each of the App Store data set's column names, use this [documentation](https://www.kaggle.com/ramamet4/app-store-apple-data-set-10k-apps)."
   ]
  },
  {
   "cell_type": "markdown",
   "metadata": {},
   "source": [
    "## Deleting Wrong Data"
   ]
  },
  {
   "cell_type": "markdown",
   "metadata": {
    "collapsed": true
   },
   "source": [
    "The Google Play data set has a dedicated [discussion section](https://www.kaggle.com/lava18/google-play-store-apps/discussion), and [one of the discussions](https://www.kaggle.com/lava18/google-play-store-apps/discussion/66015) describes an error for row 10472. We will print the row and check it against the header and another row."
   ]
  },
  {
   "cell_type": "code",
   "execution_count": 5,
   "metadata": {
    "collapsed": false
   },
   "outputs": [
    {
     "name": "stdout",
     "output_type": "stream",
     "text": [
      "['Life Made WI-Fi Touchscreen Photo Frame', '1.9', '19', '3.0M', '1,000+', 'Free', '0', 'Everyone', '', 'February 11, 2018', '1.0.19', '4.0 and up']\n",
      "\n",
      "\n",
      "['App', 'Category', 'Rating', 'Reviews', 'Size', 'Installs', 'Type', 'Price', 'Content Rating', 'Genres', 'Last Updated', 'Current Ver', 'Android Ver']\n",
      "\n",
      "\n",
      "['Photo Editor & Candy Camera & Grid & ScrapBook', 'ART_AND_DESIGN', '4.1', '159', '19M', '10,000+', 'Free', '0', 'Everyone', 'Art & Design', 'January 7, 2018', '1.0.0', '4.0.3 and up']\n"
     ]
    }
   ],
   "source": [
    "print(android[10472])\n",
    "print('\\n')\n",
    "print(android_header)\n",
    "print('\\n')\n",
    "print(android[0])"
   ]
  },
  {
   "cell_type": "markdown",
   "metadata": {},
   "source": [
    "When checking row 10472 (the *Life Made WI-Fi Touchscreen Photo Frame* app) against the header, we see a rating of 19 as well as a price of 'Everyone'. Ratings are out of 5 and prices are numerical, so neither makes sense. Hence, we'll delete row 10472 and check the number of entries in the data set before and after."
   ]
  },
  {
   "cell_type": "code",
   "execution_count": 6,
   "metadata": {
    "collapsed": false,
    "scrolled": true
   },
   "outputs": [
    {
     "name": "stdout",
     "output_type": "stream",
     "text": [
      "10841\n",
      "10840\n"
     ]
    }
   ],
   "source": [
    "print(len(android))\n",
    "del android[10472]\n",
    "print(len(android))"
   ]
  },
  {
   "cell_type": "markdown",
   "metadata": {},
   "source": [
    "From a glance at the App Store data set's [discussion section](https://www.kaggle.com/ramamet4/app-store-apple-data-set-10k-apps/discussion), we do not see any reports of wrong data."
   ]
  },
  {
   "cell_type": "markdown",
   "metadata": {},
   "source": [
    "## Removing Duplicate Entries\n",
    "\n",
    "### Part One"
   ]
  },
  {
   "cell_type": "markdown",
   "metadata": {},
   "source": [
    "After further exploring the Google Play data set's [discussions](https://www.kaggle.com/lava18/google-play-store-apps/discussion) section, we see that some apps have duplicate entries. For example, *Instagram* has four entries:"
   ]
  },
  {
   "cell_type": "code",
   "execution_count": 7,
   "metadata": {
    "collapsed": false
   },
   "outputs": [
    {
     "name": "stdout",
     "output_type": "stream",
     "text": [
      "['Instagram', 'SOCIAL', '4.5', '66577313', 'Varies with device', '1,000,000,000+', 'Free', '0', 'Teen', 'Social', 'July 31, 2018', 'Varies with device', 'Varies with device']\n",
      "['Instagram', 'SOCIAL', '4.5', '66577446', 'Varies with device', '1,000,000,000+', 'Free', '0', 'Teen', 'Social', 'July 31, 2018', 'Varies with device', 'Varies with device']\n",
      "['Instagram', 'SOCIAL', '4.5', '66577313', 'Varies with device', '1,000,000,000+', 'Free', '0', 'Teen', 'Social', 'July 31, 2018', 'Varies with device', 'Varies with device']\n",
      "['Instagram', 'SOCIAL', '4.5', '66509917', 'Varies with device', '1,000,000,000+', 'Free', '0', 'Teen', 'Social', 'July 31, 2018', 'Varies with device', 'Varies with device']\n"
     ]
    }
   ],
   "source": [
    "for app in android:\n",
    "    name = app[0]\n",
    "    if name == 'Instagram':\n",
    "        print(app)"
   ]
  },
  {
   "cell_type": "markdown",
   "metadata": {},
   "source": [
    "Let's count the number of duplicates we have in the Google Play data set:"
   ]
  },
  {
   "cell_type": "code",
   "execution_count": 8,
   "metadata": {
    "collapsed": false
   },
   "outputs": [
    {
     "name": "stdout",
     "output_type": "stream",
     "text": [
      "Number of duplicate apps: 1181\n",
      "\n",
      "\n",
      "Examples of duplicate apps: ['Quick PDF Scanner + OCR FREE', 'Box', 'Google My Business', 'ZOOM Cloud Meetings', 'join.me - Simple Meetings', 'Box', 'Zenefits', 'Google Ads', 'Google My Business', 'Slack']\n"
     ]
    }
   ],
   "source": [
    "duplicate_apps = []\n",
    "unique_apps = []\n",
    "\n",
    "for app in android:\n",
    "    name = app[0]\n",
    "    if name in unique_apps:\n",
    "        duplicate_apps.append(name)\n",
    "    else:\n",
    "        unique_apps.append(name)\n",
    "        \n",
    "print('Number of duplicate apps:', len(duplicate_apps))\n",
    "print('\\n')\n",
    "print('Examples of duplicate apps:', duplicate_apps[:10])"
   ]
  },
  {
   "cell_type": "markdown",
   "metadata": {},
   "source": [
    "There are a total of 1181 cases where an app is repeated in the Google Play data set.\n",
    "\n",
    "Since we do not want any one app to be counted more than once when we do our data analysis, we will remove duplicate entries, keeping only one entry per app. Although we could remove the duplicates randomly, there are better ways at deciding which entry to keep.\n",
    "\n",
    "In the *Instagram* app case, the only difference between each entry is the fourth position of each row, which corresponds to the number of reviews. If we assume the different numbers show the data was collected at different times, we can choose to keep the row with the highest number of reviews since it should be the more recent data, and remove the other entries.\n",
    "\n",
    "To remove the duplicates, we will:\n",
    "- Create a dictionary where each key is a unique app name, and the value is the highest number of reviews of that app\n",
    "- Use the dictionary to create a new data set, which will have only one entry per app (we'll only select the entry with the highest number of reviews)"
   ]
  },
  {
   "cell_type": "markdown",
   "metadata": {},
   "source": [
    "### Part Two"
   ]
  },
  {
   "cell_type": "markdown",
   "metadata": {},
   "source": [
    "We will first start by creating the dictionary."
   ]
  },
  {
   "cell_type": "code",
   "execution_count": 9,
   "metadata": {
    "collapsed": true
   },
   "outputs": [],
   "source": [
    "reviews_max = {}\n",
    "\n",
    "for app in android:\n",
    "    name = app[0]\n",
    "    n_reviews = float(app[3])\n",
    "    if name in reviews_max and reviews_max[name] < n_reviews:\n",
    "        reviews_max[name] = n_reviews\n",
    "    elif name not in reviews_max:\n",
    "        reviews_max[name] = n_reviews"
   ]
  },
  {
   "cell_type": "markdown",
   "metadata": {},
   "source": [
    "Since we previously found that there are 1181 cases of duplicate entries, after removing the duplicates, we should expect there to be $10840 - 1181 = 9659$ entries."
   ]
  },
  {
   "cell_type": "code",
   "execution_count": 10,
   "metadata": {
    "collapsed": false
   },
   "outputs": [
    {
     "name": "stdout",
     "output_type": "stream",
     "text": [
      "Expected length: 9659\n",
      "Actual length: 9659\n"
     ]
    }
   ],
   "source": [
    "print('Expected length:', len(android) - 1181)\n",
    "print('Actual length:', len(reviews_max))"
   ]
  },
  {
   "cell_type": "markdown",
   "metadata": {},
   "source": [
    "Using the `reviews_max` dictionary we created, we will remove duplicates, keeping only the entries with the highest number of reviews. To do this, in the cell below we will:\n",
    "- Create two empty lists: `android_clean` and `already_added`.\n",
    "- Loop through Google Play data set, and for each iteration:\n",
    "    - Assign app name to the variable `name`, and convert number of reviews to `float` then assign to the variable `n_reviews`.\n",
    "    - Add the current row (`app`) to the `android_clean` list and the app name (`name`) to the `already_added` list IF:\n",
    "        - The number of reviews of the current app matches the number of reviews of the same app in the `reviews_max` dictionary; AND\n",
    "        - The app name `name` is not already in the `already_added` list. This condition is so that we do not add the same app more than once for the cases where the highest number of reviews of duplicates is the same for more than one entry."
   ]
  },
  {
   "cell_type": "code",
   "execution_count": 11,
   "metadata": {
    "collapsed": false
   },
   "outputs": [],
   "source": [
    "android_clean = []\n",
    "already_added = []\n",
    "\n",
    "for app in android:\n",
    "    name = app[0]\n",
    "    n_reviews = float(app[3])\n",
    "    \n",
    "    if (reviews_max[name] == n_reviews) and (name not in already_added):\n",
    "        android_clean.append(app)\n",
    "        already_added.append(name)"
   ]
  },
  {
   "cell_type": "markdown",
   "metadata": {},
   "source": [
    "We will now explore the `android_clean` data set and ensure it has the expected 9659 rows."
   ]
  },
  {
   "cell_type": "code",
   "execution_count": 12,
   "metadata": {
    "collapsed": false
   },
   "outputs": [
    {
     "name": "stdout",
     "output_type": "stream",
     "text": [
      "['Photo Editor & Candy Camera & Grid & ScrapBook', 'ART_AND_DESIGN', '4.1', '159', '19M', '10,000+', 'Free', '0', 'Everyone', 'Art & Design', 'January 7, 2018', '1.0.0', '4.0.3 and up']\n",
      "\n",
      "\n",
      "['U Launcher Lite – FREE Live Cool Themes, Hide Apps', 'ART_AND_DESIGN', '4.7', '87510', '8.7M', '5,000,000+', 'Free', '0', 'Everyone', 'Art & Design', 'August 1, 2018', '1.2.4', '4.0.3 and up']\n",
      "\n",
      "\n",
      "['Sketch - Draw & Paint', 'ART_AND_DESIGN', '4.5', '215644', '25M', '50,000,000+', 'Free', '0', 'Teen', 'Art & Design', 'June 8, 2018', 'Varies with device', '4.2 and up']\n",
      "\n",
      "\n",
      "Number of rows: 9659\n",
      "Number of columns: 13\n"
     ]
    }
   ],
   "source": [
    "explore_data(android_clean, 0, 3, True)"
   ]
  },
  {
   "cell_type": "markdown",
   "metadata": {},
   "source": [
    "We have confirmed that there are indeed 9659 rows, just like we expected.\n",
    "\n",
    "Upon checking the App Store data set's [discussion section](https://www.kaggle.com/lava18/google-play-store-apps/discussion), there does not appear to be any duplicate entries in the App Store data set."
   ]
  },
  {
   "cell_type": "markdown",
   "metadata": {},
   "source": [
    "## Removing Non-English Apps\n",
    "\n",
    "### Part One"
   ]
  },
  {
   "cell_type": "markdown",
   "metadata": {},
   "source": [
    "We use English for the apps we develop, and we'd like to analyze only the apps directed toward an English-speaking audience. Since we are not interested in keeping non-English apps, we'll remove them.\n",
    "\n",
    "We will remove each app with a name containing a symbol not commonly used in English text, where English text usually consists of letters from the English alphabet, numbers composed of digits from 0 to 9, punctuation marks (., !, ?, ;, etc.), and other symbols (+, \\*, /, etc).\n",
    "\n",
    "According to the ASCII system, the numbers corresponding to characters commonly used in English text range from 0 to 127. We can build a function using the built-in `ord()` function to detect if an app name contains a character greater than 127."
   ]
  },
  {
   "cell_type": "code",
   "execution_count": 13,
   "metadata": {
    "collapsed": true
   },
   "outputs": [],
   "source": [
    "def is_english(string):\n",
    "    for character in string:\n",
    "        if ord(character) > 127:\n",
    "            return False\n",
    "    return True"
   ]
  },
  {
   "cell_type": "markdown",
   "metadata": {},
   "source": [
    "We will now test this function to see if it correctly detects wheher an app name is English or non-English:"
   ]
  },
  {
   "cell_type": "code",
   "execution_count": 14,
   "metadata": {
    "collapsed": false
   },
   "outputs": [
    {
     "name": "stdout",
     "output_type": "stream",
     "text": [
      "True\n",
      "False\n",
      "False\n",
      "False\n"
     ]
    }
   ],
   "source": [
    "print(is_english('Instagram'))\n",
    "print(is_english('爱奇艺PPS -《欢乐颂2》电视剧热播'))\n",
    "print(is_english('Docs To Go™ Free Office Suite'))\n",
    "print(is_english('Instachat 😜'))"
   ]
  },
  {
   "cell_type": "markdown",
   "metadata": {},
   "source": [
    "The function seems to work correctly for detecting app names with non-English characters, but it also seems to categorize English app names as non-English if the app name includes emojis or other symbols like ™."
   ]
  },
  {
   "cell_type": "code",
   "execution_count": 15,
   "metadata": {
    "collapsed": false
   },
   "outputs": [
    {
     "name": "stdout",
     "output_type": "stream",
     "text": [
      "8482\n",
      "128540\n"
     ]
    }
   ],
   "source": [
    "print(ord('™'))\n",
    "print(ord('😜'))"
   ]
  },
  {
   "cell_type": "markdown",
   "metadata": {},
   "source": [
    "We do not want to remove English apps just because their app names are incorrectly detected as non-English due to including emojis or other symbols (like ™) outside the ASCII range. This would mess with our analysis of English apps."
   ]
  },
  {
   "cell_type": "markdown",
   "metadata": {},
   "source": [
    "### Part Two"
   ]
  },
  {
   "cell_type": "markdown",
   "metadata": {},
   "source": [
    "To minimize the impact of data loss, we'll only remove an app if its name has more than three characters outside our ASCII range:"
   ]
  },
  {
   "cell_type": "code",
   "execution_count": 16,
   "metadata": {
    "collapsed": true
   },
   "outputs": [],
   "source": [
    "def is_english(string):\n",
    "    non_ascii = 0\n",
    "    \n",
    "    for character in string:\n",
    "        if ord(character) > 127:\n",
    "            non_ascii += 1\n",
    "            \n",
    "    if non_ascii > 3:\n",
    "        return False\n",
    "    else:    \n",
    "        return True"
   ]
  },
  {
   "cell_type": "code",
   "execution_count": 17,
   "metadata": {
    "collapsed": false
   },
   "outputs": [
    {
     "name": "stdout",
     "output_type": "stream",
     "text": [
      "True\n",
      "True\n",
      "False\n"
     ]
    }
   ],
   "source": [
    "print(is_english('Docs To Go™ Free Office Suite'))\n",
    "print(is_english('Instachat 😜'))\n",
    "print(is_english('爱奇艺PPS -《欢乐颂2》电视剧热播'))"
   ]
  },
  {
   "cell_type": "markdown",
   "metadata": {},
   "source": [
    "Our filter is still not perfect, but it should be effective enough for our analysis.\n",
    "\n",
    "We will use our `is_english()` function to filter out non-English apps from both data sets:"
   ]
  },
  {
   "cell_type": "code",
   "execution_count": 18,
   "metadata": {
    "collapsed": true
   },
   "outputs": [],
   "source": [
    "android_english = []\n",
    "ios_english = []\n",
    "\n",
    "for app in android_clean:\n",
    "    name = app[0]\n",
    "    if is_english(name):\n",
    "        android_english.append(app)\n",
    "        \n",
    "for app in ios:\n",
    "    name = app[1]\n",
    "    if is_english(name):\n",
    "        ios_english.append(app)"
   ]
  },
  {
   "cell_type": "code",
   "execution_count": 19,
   "metadata": {
    "collapsed": false
   },
   "outputs": [
    {
     "name": "stdout",
     "output_type": "stream",
     "text": [
      "['Photo Editor & Candy Camera & Grid & ScrapBook', 'ART_AND_DESIGN', '4.1', '159', '19M', '10,000+', 'Free', '0', 'Everyone', 'Art & Design', 'January 7, 2018', '1.0.0', '4.0.3 and up']\n",
      "\n",
      "\n",
      "['U Launcher Lite – FREE Live Cool Themes, Hide Apps', 'ART_AND_DESIGN', '4.7', '87510', '8.7M', '5,000,000+', 'Free', '0', 'Everyone', 'Art & Design', 'August 1, 2018', '1.2.4', '4.0.3 and up']\n",
      "\n",
      "\n",
      "['Sketch - Draw & Paint', 'ART_AND_DESIGN', '4.5', '215644', '25M', '50,000,000+', 'Free', '0', 'Teen', 'Art & Design', 'June 8, 2018', 'Varies with device', '4.2 and up']\n",
      "\n",
      "\n",
      "Number of rows: 9614\n",
      "Number of columns: 13\n",
      "\n",
      "\n",
      "['284882215', 'Facebook', '389879808', 'USD', '0.0', '2974676', '212', '3.5', '3.5', '95.0', '4+', 'Social Networking', '37', '1', '29', '1']\n",
      "\n",
      "\n",
      "['389801252', 'Instagram', '113954816', 'USD', '0.0', '2161558', '1289', '4.5', '4.0', '10.23', '12+', 'Photo & Video', '37', '0', '29', '1']\n",
      "\n",
      "\n",
      "['529479190', 'Clash of Clans', '116476928', 'USD', '0.0', '2130805', '579', '4.5', '4.5', '9.24.12', '9+', 'Games', '38', '5', '18', '1']\n",
      "\n",
      "\n",
      "Number of rows: 6183\n",
      "Number of columns: 16\n"
     ]
    }
   ],
   "source": [
    "explore_data(android_english, 0, 3, True)\n",
    "print('\\n')\n",
    "explore_data(ios_english, 0, 3, True)"
   ]
  },
  {
   "cell_type": "markdown",
   "metadata": {},
   "source": [
    "We now have 9614 Android apps and 6183 iOS apps remaining."
   ]
  },
  {
   "cell_type": "markdown",
   "metadata": {},
   "source": [
    "## Isolating the Free Apps\n",
    "In the intro, we mentioned that we only build apps that are free to download and install, and our main source of revenue comes from in-app ads. Since our data sets contain both free and non-free apps, we will need to isolate only the free apps for our analysis."
   ]
  },
  {
   "cell_type": "code",
   "execution_count": 20,
   "metadata": {
    "collapsed": false
   },
   "outputs": [
    {
     "name": "stdout",
     "output_type": "stream",
     "text": [
      "['App', 'Category', 'Rating', 'Reviews', 'Size', 'Installs', 'Type', 'Price', 'Content Rating', 'Genres', 'Last Updated', 'Current Ver', 'Android Ver']\n",
      "\n",
      "\n",
      "['Photo Editor & Candy Camera & Grid & ScrapBook', 'ART_AND_DESIGN', '4.1', '159', '19M', '10,000+', 'Free', '0', 'Everyone', 'Art & Design', 'January 7, 2018', '1.0.0', '4.0.3 and up']\n",
      "\n",
      "\n",
      "['id', 'track_name', 'size_bytes', 'currency', 'price', 'rating_count_tot', 'rating_count_ver', 'user_rating', 'user_rating_ver', 'ver', 'cont_rating', 'prime_genre', 'sup_devices.num', 'ipadSc_urls.num', 'lang.num', 'vpp_lic']\n",
      "\n",
      "\n",
      "['284882215', 'Facebook', '389879808', 'USD', '0.0', '2974676', '212', '3.5', '3.5', '95.0', '4+', 'Social Networking', '37', '1', '29', '1']\n"
     ]
    }
   ],
   "source": [
    "# Identify columns describing the app price\n",
    "print(android_header)\n",
    "print('\\n')\n",
    "print(android[0])\n",
    "print('\\n')\n",
    "print(ios_header)\n",
    "print('\\n')\n",
    "print(ios[0])"
   ]
  },
  {
   "cell_type": "code",
   "execution_count": 21,
   "metadata": {
    "collapsed": false
   },
   "outputs": [
    {
     "name": "stdout",
     "output_type": "stream",
     "text": [
      "8864\n",
      "3222\n"
     ]
    }
   ],
   "source": [
    "android_free = []\n",
    "ios_free = []\n",
    "\n",
    "for app in android_english:\n",
    "    price = app[7]\n",
    "    if price == '0':\n",
    "        android_free.append(app)\n",
    "\n",
    "for app in ios_english:\n",
    "    price = app[4]\n",
    "    if price == '0.0':\n",
    "        ios_free.append(app)\n",
    "\n",
    "android_final = android_free\n",
    "ios_final = ios_free\n",
    "\n",
    "# Check length of each data set\n",
    "# How many apps remaining?\n",
    "print(len(android_final))\n",
    "print(len(ios_final))"
   ]
  },
  {
   "cell_type": "markdown",
   "metadata": {},
   "source": [
    "We have 8864 Android apps and 3222 iOS apps remaining. This should be enough for us to proceed with our analysis."
   ]
  },
  {
   "cell_type": "markdown",
   "metadata": {},
   "source": [
    "## Most Common Apps by Genre\n",
    "### Part One"
   ]
  },
  {
   "cell_type": "markdown",
   "metadata": {},
   "source": [
    "As mentioned in the intro, our aim is to determine the kinds of apps that are likely to attract more users because our revenue is highly influenced by the number of people using our apps.\n",
    "\n",
    "To minimize risks and overhead, our validation strategy for an app idea is comprised of three steps:\n",
    "1. Build a minimal Android version of the app, and add it to Google Play.\n",
    "2. If the app has a good response from users, we develop it further.\n",
    "3. If the app is profitable after six months, we build an iOS version of the app and add it to the App Store.\n",
    "\n",
    "Our end goal is to add the app on both Google Play and the App Store, so we need to find app profiles successful on both markets. For example, a profile that works well for both markets might be a productivity app that makes use of gamification.\n",
    "\n",
    "We'll begin the analysis by getting a sense of what are the most common genres for each market. To do this, we will build a frequency table for `'Category'` and `'Genres'` columns of the Google Play data set and the `'prime_genre'` column of the App Store data set."
   ]
  },
  {
   "cell_type": "markdown",
   "metadata": {},
   "source": [
    "### Part Two"
   ]
  },
  {
   "cell_type": "markdown",
   "metadata": {},
   "source": [
    "We will build two functions we can use to analyze the frequency tables:\n",
    "- One function to generate frequency tables that show percentages\n",
    "- Another function we can use to display the percentages in a descending order"
   ]
  },
  {
   "cell_type": "code",
   "execution_count": 22,
   "metadata": {
    "collapsed": true
   },
   "outputs": [],
   "source": [
    "def freq_table(dataset, index):\n",
    "    table = {}\n",
    "    total_count = 0\n",
    "    \n",
    "    # Create frequency table as dictionary\n",
    "    for row in dataset:\n",
    "        total_count += 1\n",
    "        value = row[index]\n",
    "        if value in table:\n",
    "            table[value] += 1\n",
    "        else:\n",
    "            table[value] = 1\n",
    "    \n",
    "    # Express frequencies as percentages\n",
    "    table_percentages = {}\n",
    "    for key in table:\n",
    "        percentage = (table[key] / total_count) * 100\n",
    "        table_percentages[key] = percentage\n",
    "        \n",
    "    return table_percentages\n",
    "\n",
    "\n",
    "def display_table(dataset, index):\n",
    "    table = freq_table(dataset, index)\n",
    "    table_display = []\n",
    "    for key in table:\n",
    "        key_val_as_tuple = (table[key], key)\n",
    "        table_display.append(key_val_as_tuple)\n",
    "\n",
    "    table_sorted = sorted(table_display, reverse = True)\n",
    "    for entry in table_sorted:\n",
    "        print(entry[1], ':', entry[0])"
   ]
  },
  {
   "cell_type": "markdown",
   "metadata": {},
   "source": [
    "### Part Three"
   ]
  },
  {
   "cell_type": "markdown",
   "metadata": {},
   "source": [
    "We will start by analyzing the frequency table for the `'prime_genre'` column of the App Store data set."
   ]
  },
  {
   "cell_type": "code",
   "execution_count": 23,
   "metadata": {
    "collapsed": false
   },
   "outputs": [
    {
     "name": "stdout",
     "output_type": "stream",
     "text": [
      "Games : 58.16263190564867\n",
      "Entertainment : 7.883302296710118\n",
      "Photo & Video : 4.9658597144630665\n",
      "Education : 3.662321539416512\n",
      "Social Networking : 3.2898820608317814\n",
      "Shopping : 2.60707635009311\n",
      "Utilities : 2.5139664804469275\n",
      "Sports : 2.1415270018621975\n",
      "Music : 2.0484171322160147\n",
      "Health & Fitness : 2.0173805090006205\n",
      "Productivity : 1.7380509000620732\n",
      "Lifestyle : 1.5828677839851024\n",
      "News : 1.3345747982619491\n",
      "Travel : 1.2414649286157666\n",
      "Finance : 1.1173184357541899\n",
      "Weather : 0.8690254500310366\n",
      "Food & Drink : 0.8069522036002483\n",
      "Reference : 0.5586592178770949\n",
      "Business : 0.5276225946617008\n",
      "Book : 0.4345127250155183\n",
      "Navigation : 0.186219739292365\n",
      "Medical : 0.186219739292365\n",
      "Catalogs : 0.12414649286157665\n"
     ]
    }
   ],
   "source": [
    "display_table(ios_final, -5)"
   ]
  },
  {
   "cell_type": "markdown",
   "metadata": {},
   "source": [
    "Among the free English apps, we can see that the most common type of app is for games (58.16%), followed by entertainment (7.88%), then photo and video (4.97%), education (3.66%), and social networking (3.29%).\n",
    "\n",
    "The general impression is that most of the App Store's free English apps are designed for entertainment (games, photo and video, social networking, sports, music, etc.) rather than for practical purposes (education, shopping, utilities, productivity, lifestyle, etc.). However, a larger number of entertainment apps does not also imply that entertainment apps generally have a larger number of users.\n",
    "\n",
    "We will next analyze the frequency table for the `'Category'` and `'Genres'` columns of the Google Play data set."
   ]
  },
  {
   "cell_type": "code",
   "execution_count": 24,
   "metadata": {
    "collapsed": false
   },
   "outputs": [
    {
     "name": "stdout",
     "output_type": "stream",
     "text": [
      "FAMILY : 18.907942238267147\n",
      "GAME : 9.724729241877256\n",
      "TOOLS : 8.461191335740072\n",
      "BUSINESS : 4.591606498194946\n",
      "LIFESTYLE : 3.9034296028880866\n",
      "PRODUCTIVITY : 3.892148014440433\n",
      "FINANCE : 3.7003610108303246\n",
      "MEDICAL : 3.531137184115524\n",
      "SPORTS : 3.395758122743682\n",
      "PERSONALIZATION : 3.3167870036101084\n",
      "COMMUNICATION : 3.2378158844765346\n",
      "HEALTH_AND_FITNESS : 3.0798736462093865\n",
      "PHOTOGRAPHY : 2.944494584837545\n",
      "NEWS_AND_MAGAZINES : 2.7978339350180503\n",
      "SOCIAL : 2.6624548736462095\n",
      "TRAVEL_AND_LOCAL : 2.33528880866426\n",
      "SHOPPING : 2.2450361010830324\n",
      "BOOKS_AND_REFERENCE : 2.1435018050541514\n",
      "DATING : 1.861462093862816\n",
      "VIDEO_PLAYERS : 1.7937725631768955\n",
      "MAPS_AND_NAVIGATION : 1.3989169675090252\n",
      "FOOD_AND_DRINK : 1.2409747292418771\n",
      "EDUCATION : 1.1620036101083033\n",
      "ENTERTAINMENT : 0.9589350180505415\n",
      "LIBRARIES_AND_DEMO : 0.9363718411552346\n",
      "AUTO_AND_VEHICLES : 0.9250902527075812\n",
      "HOUSE_AND_HOME : 0.8235559566787004\n",
      "WEATHER : 0.8009927797833934\n",
      "EVENTS : 0.7107400722021661\n",
      "PARENTING : 0.6543321299638989\n",
      "ART_AND_DESIGN : 0.6430505415162455\n",
      "COMICS : 0.6204873646209386\n",
      "BEAUTY : 0.5979241877256317\n"
     ]
    }
   ],
   "source": [
    "# Category column\n",
    "display_table(android_final, 1)"
   ]
  },
  {
   "cell_type": "markdown",
   "metadata": {},
   "source": [
    "Unlike the free English apps in the App Store where many of their apps were targeted toward entertainment, among the free English apps in Google Play, most of the apps (by category) seem to focus on practical purposes (family, tools, business, lifestyle, productivity, finance, etc.). The most common category of free English apps in Google Play is family (18.91%), followed by games (9.72%), tools (8.46%), business (4.59%), lifestyle (3.90%), and so forth."
   ]
  },
  {
   "cell_type": "code",
   "execution_count": 25,
   "metadata": {
    "collapsed": false
   },
   "outputs": [
    {
     "name": "stdout",
     "output_type": "stream",
     "text": [
      "Tools : 8.449909747292418\n",
      "Entertainment : 6.069494584837545\n",
      "Education : 5.347472924187725\n",
      "Business : 4.591606498194946\n",
      "Productivity : 3.892148014440433\n",
      "Lifestyle : 3.892148014440433\n",
      "Finance : 3.7003610108303246\n",
      "Medical : 3.531137184115524\n",
      "Sports : 3.463447653429603\n",
      "Personalization : 3.3167870036101084\n",
      "Communication : 3.2378158844765346\n",
      "Action : 3.1024368231046933\n",
      "Health & Fitness : 3.0798736462093865\n",
      "Photography : 2.944494584837545\n",
      "News & Magazines : 2.7978339350180503\n",
      "Social : 2.6624548736462095\n",
      "Travel & Local : 2.3240072202166067\n",
      "Shopping : 2.2450361010830324\n",
      "Books & Reference : 2.1435018050541514\n",
      "Simulation : 2.0419675090252705\n",
      "Dating : 1.861462093862816\n",
      "Arcade : 1.8501805054151623\n",
      "Video Players & Editors : 1.7712093862815883\n",
      "Casual : 1.7599277978339352\n",
      "Maps & Navigation : 1.3989169675090252\n",
      "Food & Drink : 1.2409747292418771\n",
      "Puzzle : 1.128158844765343\n",
      "Racing : 0.9927797833935018\n",
      "Role Playing : 0.9363718411552346\n",
      "Libraries & Demo : 0.9363718411552346\n",
      "Auto & Vehicles : 0.9250902527075812\n",
      "Strategy : 0.9138086642599278\n",
      "House & Home : 0.8235559566787004\n",
      "Weather : 0.8009927797833934\n",
      "Events : 0.7107400722021661\n",
      "Adventure : 0.6768953068592057\n",
      "Comics : 0.6092057761732852\n",
      "Beauty : 0.5979241877256317\n",
      "Art & Design : 0.5979241877256317\n",
      "Parenting : 0.4963898916967509\n",
      "Card : 0.45126353790613716\n",
      "Casino : 0.42870036101083037\n",
      "Trivia : 0.41741877256317694\n",
      "Educational;Education : 0.39485559566787\n",
      "Board : 0.3835740072202166\n",
      "Educational : 0.3722924187725632\n",
      "Education;Education : 0.33844765342960287\n",
      "Word : 0.2594765342960289\n",
      "Casual;Pretend Play : 0.236913357400722\n",
      "Music : 0.2030685920577617\n",
      "Racing;Action & Adventure : 0.16922382671480143\n",
      "Puzzle;Brain Games : 0.16922382671480143\n",
      "Entertainment;Music & Video : 0.16922382671480143\n",
      "Casual;Brain Games : 0.13537906137184114\n",
      "Casual;Action & Adventure : 0.13537906137184114\n",
      "Arcade;Action & Adventure : 0.12409747292418773\n",
      "Action;Action & Adventure : 0.10153429602888085\n",
      "Educational;Pretend Play : 0.09025270758122744\n",
      "Simulation;Action & Adventure : 0.078971119133574\n",
      "Parenting;Education : 0.078971119133574\n",
      "Entertainment;Brain Games : 0.078971119133574\n",
      "Board;Brain Games : 0.078971119133574\n",
      "Parenting;Music & Video : 0.06768953068592057\n",
      "Educational;Brain Games : 0.06768953068592057\n",
      "Casual;Creativity : 0.06768953068592057\n",
      "Art & Design;Creativity : 0.06768953068592057\n",
      "Education;Pretend Play : 0.056407942238267145\n",
      "Role Playing;Pretend Play : 0.04512635379061372\n",
      "Education;Creativity : 0.04512635379061372\n",
      "Role Playing;Action & Adventure : 0.033844765342960284\n",
      "Puzzle;Action & Adventure : 0.033844765342960284\n",
      "Entertainment;Creativity : 0.033844765342960284\n",
      "Entertainment;Action & Adventure : 0.033844765342960284\n",
      "Educational;Creativity : 0.033844765342960284\n",
      "Educational;Action & Adventure : 0.033844765342960284\n",
      "Education;Music & Video : 0.033844765342960284\n",
      "Education;Brain Games : 0.033844765342960284\n",
      "Education;Action & Adventure : 0.033844765342960284\n",
      "Adventure;Action & Adventure : 0.033844765342960284\n",
      "Video Players & Editors;Music & Video : 0.02256317689530686\n",
      "Sports;Action & Adventure : 0.02256317689530686\n",
      "Simulation;Pretend Play : 0.02256317689530686\n",
      "Puzzle;Creativity : 0.02256317689530686\n",
      "Music;Music & Video : 0.02256317689530686\n",
      "Entertainment;Pretend Play : 0.02256317689530686\n",
      "Casual;Education : 0.02256317689530686\n",
      "Board;Action & Adventure : 0.02256317689530686\n",
      "Video Players & Editors;Creativity : 0.01128158844765343\n",
      "Trivia;Education : 0.01128158844765343\n",
      "Travel & Local;Action & Adventure : 0.01128158844765343\n",
      "Tools;Education : 0.01128158844765343\n",
      "Strategy;Education : 0.01128158844765343\n",
      "Strategy;Creativity : 0.01128158844765343\n",
      "Strategy;Action & Adventure : 0.01128158844765343\n",
      "Simulation;Education : 0.01128158844765343\n",
      "Role Playing;Brain Games : 0.01128158844765343\n",
      "Racing;Pretend Play : 0.01128158844765343\n",
      "Puzzle;Education : 0.01128158844765343\n",
      "Parenting;Brain Games : 0.01128158844765343\n",
      "Music & Audio;Music & Video : 0.01128158844765343\n",
      "Lifestyle;Pretend Play : 0.01128158844765343\n",
      "Lifestyle;Education : 0.01128158844765343\n",
      "Health & Fitness;Education : 0.01128158844765343\n",
      "Health & Fitness;Action & Adventure : 0.01128158844765343\n",
      "Entertainment;Education : 0.01128158844765343\n",
      "Communication;Creativity : 0.01128158844765343\n",
      "Comics;Creativity : 0.01128158844765343\n",
      "Casual;Music & Video : 0.01128158844765343\n",
      "Card;Action & Adventure : 0.01128158844765343\n",
      "Books & Reference;Education : 0.01128158844765343\n",
      "Art & Design;Pretend Play : 0.01128158844765343\n",
      "Art & Design;Action & Adventure : 0.01128158844765343\n",
      "Arcade;Pretend Play : 0.01128158844765343\n",
      "Adventure;Education : 0.01128158844765343\n"
     ]
    }
   ],
   "source": [
    "# Genres column\n",
    "display_table(android_final, -4)"
   ]
  },
  {
   "cell_type": "markdown",
   "metadata": {
    "collapsed": true
   },
   "source": [
    "Similar to what we saw when analyzing the frequency table for category, we can see that when analyzing genres, the majority of Google Play's free English apps are still for practical purposes instead of entertainment. The most common genres are as follows: tools (8.45%), entertainment (6.07%), education (5.35%), business (4.59%), productivity (3.89%), lifestyle (3.89%), and so on.\n",
    "\n",
    "While we are not exactly sure how the `Category` and `Genres` columns are distinguished, `Genres` definitely has more categories. Further analysis for Google Play will be based on the `Category` column.\n",
    "\n",
    "Although this still does not reveal which genres have the most users, we can definitely see that the App Store has over half its store covered in entertainment (i.e, games) apps while Google Play displays a better mixture of practical purposes to entertainment apps."
   ]
  },
  {
   "cell_type": "markdown",
   "metadata": {},
   "source": [
    "## Most Popular Apps by Genre on the App Store"
   ]
  },
  {
   "cell_type": "markdown",
   "metadata": {},
   "source": [
    "So far, we've discovered what kinds of apps dominate the App Store and the Google Play market. Now, we want to get an idea of what kind of apps have the most users.\n",
    "\n",
    "One way to find out what genres are the most popular (have the most users) is to calculate the average number of installs for each app genre. For the Google Play data set, we'll use the `Installs` column. The App Store data set lacks a column with information on number of installs, so we'll settle for the total number of user ratings under the `rating_count_tot` column.\n",
    "\n",
    "We'll start by calculating the average number of user ratings for each app genre on the App Store:"
   ]
  },
  {
   "cell_type": "code",
   "execution_count": 26,
   "metadata": {
    "collapsed": false
   },
   "outputs": [
    {
     "name": "stdout",
     "output_type": "stream",
     "text": [
      "Health & Fitness : 23298.015384615384\n",
      "Catalogs : 4004.0\n",
      "Finance : 31467.944444444445\n",
      "Navigation : 86090.33333333333\n",
      "Entertainment : 14029.830708661417\n",
      "Weather : 52279.892857142855\n",
      "Sports : 23008.898550724636\n",
      "Music : 57326.530303030304\n",
      "Business : 7491.117647058823\n",
      "Photo & Video : 28441.54375\n",
      "Utilities : 18684.456790123455\n",
      "Productivity : 21028.410714285714\n",
      "Medical : 612.0\n",
      "News : 21248.023255813954\n",
      "Shopping : 26919.690476190477\n",
      "Games : 22788.6696905016\n",
      "Book : 39758.5\n",
      "Education : 7003.983050847458\n",
      "Social Networking : 71548.34905660378\n",
      "Travel : 28243.8\n",
      "Food & Drink : 33333.92307692308\n",
      "Reference : 74942.11111111111\n",
      "Lifestyle : 16485.764705882353\n"
     ]
    }
   ],
   "source": [
    "genres_ios = freq_table(ios_final, -5)\n",
    "\n",
    "for genre in genres_ios:\n",
    "    total = 0\n",
    "    len_genre = 0\n",
    "    \n",
    "    for app in ios_final:\n",
    "        genre_app = app[-5]\n",
    "        if genre_app == genre:\n",
    "            n_ratings = float(app[5])\n",
    "            total += n_ratings\n",
    "            len_genre += 1\n",
    "    \n",
    "    avg_n_ratings = total / len_genre\n",
    "    print(genre, ':', avg_n_ratings)"
   ]
  },
  {
   "cell_type": "markdown",
   "metadata": {},
   "source": [
    "On average, navigation apps have the highest number of user reviews, followed by reference apps, then social networking apps, then music apps, then weather apps, book apps, food and drink apps, and so forth. \n",
    "\n",
    "Let's see what apps some of these genres consist of:"
   ]
  },
  {
   "cell_type": "code",
   "execution_count": 27,
   "metadata": {
    "collapsed": false
   },
   "outputs": [
    {
     "name": "stdout",
     "output_type": "stream",
     "text": [
      "Waze - GPS Navigation, Maps & Real-time Traffic : 345046\n",
      "Google Maps - Navigation & Transit : 154911\n",
      "Geocaching® : 12811\n",
      "CoPilot GPS – Car Navigation & Offline Maps : 3582\n",
      "ImmobilienScout24: Real Estate Search in Germany : 187\n",
      "Railway Route Search : 5\n"
     ]
    }
   ],
   "source": [
    "for app in ios_final:\n",
    "    if app[-5] == 'Navigation':\n",
    "        print(app[1], \":\", app[5])"
   ]
  },
  {
   "cell_type": "markdown",
   "metadata": {},
   "source": [
    "The average number of user ratings for navigation apps seems to be heavily influenced by Waze and Google Maps. The two apps alone account for $345046+154911=499957$ (nearly half a million) user reviews."
   ]
  },
  {
   "cell_type": "code",
   "execution_count": 28,
   "metadata": {
    "collapsed": false
   },
   "outputs": [
    {
     "name": "stdout",
     "output_type": "stream",
     "text": [
      "Bible : 985920\n",
      "Dictionary.com Dictionary & Thesaurus : 200047\n",
      "Dictionary.com Dictionary & Thesaurus for iPad : 54175\n",
      "Google Translate : 26786\n",
      "Muslim Pro: Ramadan 2017 Prayer Times, Azan, Quran : 18418\n",
      "New Furniture Mods - Pocket Wiki & Game Tools for Minecraft PC Edition : 17588\n",
      "Merriam-Webster Dictionary : 16849\n",
      "Night Sky : 12122\n",
      "City Maps for Minecraft PE - The Best Maps for Minecraft Pocket Edition (MCPE) : 8535\n",
      "LUCKY BLOCK MOD ™ for Minecraft PC Edition - The Best Pocket Wiki & Mods Installer Tools : 4693\n",
      "GUNS MODS for Minecraft PC Edition - Mods Tools : 1497\n",
      "Guides for Pokémon GO - Pokemon GO News and Cheats : 826\n",
      "WWDC : 762\n",
      "Horror Maps for Minecraft PE - Download The Scariest Maps for Minecraft Pocket Edition (MCPE) Free : 718\n",
      "VPN Express : 14\n",
      "Real Bike Traffic Rider Virtual Reality Glasses : 8\n",
      "教えて!goo : 0\n",
      "Jishokun-Japanese English Dictionary & Translator : 0\n"
     ]
    }
   ],
   "source": [
    "for app in ios_final:\n",
    "    if app[-5] == 'Reference':\n",
    "        print(app[1], \":\", app[5])"
   ]
  },
  {
   "cell_type": "markdown",
   "metadata": {},
   "source": [
    "As you can see, although apps of the reference genre are among the second highest average number of reviews, this is heavily influenced by the Bible and Dictionary.com and their combined total of over a million reviews."
   ]
  },
  {
   "cell_type": "code",
   "execution_count": 29,
   "metadata": {
    "collapsed": false
   },
   "outputs": [
    {
     "name": "stdout",
     "output_type": "stream",
     "text": [
      "Facebook : 2974676\n",
      "Pinterest : 1061624\n",
      "Skype for iPhone : 373519\n",
      "Messenger : 351466\n",
      "Tumblr : 334293\n",
      "WhatsApp Messenger : 287589\n",
      "Kik : 260965\n",
      "ooVoo – Free Video Call, Text and Voice : 177501\n",
      "TextNow - Unlimited Text + Calls : 164963\n",
      "Viber Messenger – Text & Call : 164249\n",
      "Followers - Social Analytics For Instagram : 112778\n",
      "MeetMe - Chat and Meet New People : 97072\n",
      "We Heart It - Fashion, wallpapers, quotes, tattoos : 90414\n",
      "InsTrack for Instagram - Analytics Plus More : 85535\n",
      "Tango - Free Video Call, Voice and Chat : 75412\n",
      "LinkedIn : 71856\n",
      "Match™ - #1 Dating App. : 60659\n",
      "Skype for iPad : 60163\n",
      "POF - Best Dating App for Conversations : 52642\n",
      "Timehop : 49510\n",
      "Find My Family, Friends & iPhone - Life360 Locator : 43877\n",
      "Whisper - Share, Express, Meet : 39819\n",
      "Hangouts : 36404\n",
      "LINE PLAY - Your Avatar World : 34677\n",
      "WeChat : 34584\n",
      "Badoo - Meet New People, Chat, Socialize. : 34428\n",
      "Followers + for Instagram - Follower Analytics : 28633\n",
      "GroupMe : 28260\n",
      "Marco Polo Video Walkie Talkie : 27662\n",
      "Miitomo : 23965\n",
      "SimSimi : 23530\n",
      "Grindr - Gay and same sex guys chat, meet and date : 23201\n",
      "Wishbone - Compare Anything : 20649\n",
      "imo video calls and chat : 18841\n",
      "After School - Funny Anonymous School News : 18482\n",
      "Quick Reposter - Repost, Regram and Reshare Photos : 17694\n",
      "Weibo HD : 16772\n",
      "Repost for Instagram : 15185\n",
      "Live.me – Live Video Chat & Make Friends Nearby : 14724\n",
      "Nextdoor : 14402\n",
      "Followers Analytics for Instagram - InstaReport : 13914\n",
      "YouNow: Live Stream Video Chat : 12079\n",
      "FollowMeter for Instagram - Followers Tracking : 11976\n",
      "LINE : 11437\n",
      "eHarmony™ Dating App - Meet Singles : 11124\n",
      "Discord - Chat for Gamers : 9152\n",
      "QQ : 9109\n",
      "Telegram Messenger : 7573\n",
      "Weibo : 7265\n",
      "Periscope - Live Video Streaming Around the World : 6062\n",
      "Chat for Whatsapp - iPad Version : 5060\n",
      "QQ HD : 5058\n",
      "Followers Analysis Tool For Instagram App Free : 4253\n",
      "live.ly - live video streaming : 4145\n",
      "Houseparty - Group Video Chat : 3991\n",
      "SOMA Messenger : 3232\n",
      "Monkey : 3060\n",
      "Down To Lunch : 2535\n",
      "Flinch - Video Chat Staring Contest : 2134\n",
      "Highrise - Your Avatar Community : 2011\n",
      "LOVOO - Dating Chat : 1985\n",
      "PlayStation®Messages : 1918\n",
      "BOO! - Video chat camera with filters & stickers : 1805\n",
      "Qzone : 1649\n",
      "Chatous - Chat with new people : 1609\n",
      "Kiwi - Q&A : 1538\n",
      "GhostCodes - a discovery app for Snapchat : 1313\n",
      "Jodel : 1193\n",
      "FireChat : 1037\n",
      "Google Duo - simple video calling : 1033\n",
      "Fiesta by Tango - Chat & Meet New People : 885\n",
      "Google Allo — smart messaging : 862\n",
      "Peach — share vividly : 727\n",
      "Hey! VINA - Where Women Meet New Friends : 719\n",
      "Battlefield™ Companion : 689\n",
      "All Devices for WhatsApp - Messenger for iPad : 682\n",
      "Chat for Pokemon Go - GoChat : 500\n",
      "IAmNaughty – Dating App to Meet New People Online : 463\n",
      "Qzone HD : 458\n",
      "Zenly - Locate your friends in realtime : 427\n",
      "League of Legends Friends : 420\n",
      "豆瓣 : 407\n",
      "Candid - Speak Your Mind Freely : 398\n",
      "知乎 : 397\n",
      "Selfeo : 366\n",
      "Fake-A-Location Free ™ : 354\n",
      "Popcorn Buzz - Free Group Calls : 281\n",
      "Fam — Group video calling for iMessage : 279\n",
      "QQ International : 274\n",
      "Ameba : 269\n",
      "SoundCloud Pulse: for creators : 240\n",
      "Tantan : 235\n",
      "Cougar Dating & Life Style App for Mature Women : 213\n",
      "Rawr Messenger - Dab your chat : 180\n",
      "WhenToPost: Best Time to Post Photos for Instagram : 158\n",
      "Inke—Broadcast an amazing life : 147\n",
      "Mustknow - anonymous video Q&A : 53\n",
      "CTFxCmoji : 39\n",
      "Lobi : 36\n",
      "Chain: Collaborate On MyVideo Story/Group Video : 35\n",
      "botman - Real time video chat : 7\n",
      "BestieBox : 0\n",
      "MATCH ON LINE chat : 0\n",
      "niconico ch : 0\n",
      "LINE BLOG : 0\n",
      "bit-tube - Live Stream Video Chat : 0\n"
     ]
    }
   ],
   "source": [
    "for app in ios_final:\n",
    "    if app[-5] == 'Social Networking':\n",
    "        print(app[1], \":\", app[5])"
   ]
  },
  {
   "cell_type": "markdown",
   "metadata": {},
   "source": [
    "Similar to how just a couple of popular apps inflate the average number of user ratings for the navation genre and the reference genre, the average number for social networking apps seems to also be heavily influenced by a few of the more popular apps like Facebook, Pinterest, Skype, Messenger, etc."
   ]
  },
  {
   "cell_type": "code",
   "execution_count": 30,
   "metadata": {
    "collapsed": false
   },
   "outputs": [
    {
     "name": "stdout",
     "output_type": "stream",
     "text": [
      "Pandora - Music & Radio : 1126879\n",
      "Spotify Music : 878563\n",
      "Shazam - Discover music, artists, videos & lyrics : 402925\n",
      "iHeartRadio – Free Music & Radio Stations : 293228\n",
      "SoundCloud - Music & Audio : 135744\n",
      "Magic Piano by Smule : 131695\n",
      "Smule Sing! : 119316\n",
      "TuneIn Radio - MLB NBA Audiobooks Podcasts Music : 110420\n",
      "Amazon Music : 106235\n",
      "SoundHound Song Search & Music Player : 82602\n",
      "Sonos Controller : 48905\n",
      "Bandsintown Concerts : 30845\n",
      "Karaoke - Sing Karaoke, Unlimited Songs! : 28606\n",
      "My Mixtapez Music : 26286\n",
      "Sing Karaoke Songs Unlimited with StarMaker : 26227\n",
      "Ringtones for iPhone & Ringtone Maker : 25403\n",
      "Musi - Unlimited Music For YouTube : 25193\n",
      "AutoRap by Smule : 18202\n",
      "Spinrilla - Mixtapes For Free : 15053\n",
      "Napster - Top Music & Radio : 14268\n",
      "edjing Mix:DJ turntable to remix and scratch music : 13580\n",
      "Free Music - MP3 Streamer & Playlist Manager Pro : 13443\n",
      "Free Piano app by Yokee : 13016\n",
      "Google Play Music : 10118\n",
      "Certified Mixtapes - Hip Hop Albums & Mixtapes : 9975\n",
      "TIDAL : 7398\n",
      "YouTube Music : 7109\n",
      "Nicki Minaj: The Empire : 5196\n",
      "Sounds app - Music And Friends : 5126\n",
      "SongFlip - Free Music Streamer : 5004\n",
      "Simple Radio - Live AM & FM Radio Stations : 4787\n",
      "Deezer - Listen to your Favorite Music & Playlists : 4677\n",
      "Ringtones for iPhone with Ringtone Maker : 4013\n",
      "Bose SoundTouch : 3687\n",
      "Amazon Alexa : 3018\n",
      "DatPiff : 2815\n",
      "Trebel Music - Unlimited Music Downloader : 2570\n",
      "Free Music Play - Mp3 Streamer & Player : 2496\n",
      "Acapella from PicPlayPost : 2487\n",
      "Coach Guitar - Lessons & Easy Tabs For Beginners : 2416\n",
      "Musicloud - MP3 and FLAC Music Player for Cloud Platforms. : 2211\n",
      "Piano - Play Keyboard Music Games with Magic Tiles : 1636\n",
      "Boom: Best Equalizer & Magical Surround Sound : 1375\n",
      "Music Freedom - Unlimited Free MP3 Music Streaming : 1246\n",
      "AmpMe - A Portable Social Party Music Speaker : 1047\n",
      "Medly - Music Maker : 933\n",
      "Bose Connect : 915\n",
      "Music Memos : 909\n",
      "UE BOOM : 612\n",
      "LiveMixtapes : 555\n",
      "NOISE : 355\n",
      "MP3 Music Player & Streamer for Clouds : 329\n",
      "Musical Video Maker - Create Music clips lip sync : 320\n",
      "Cloud Music Player - Downloader & Playlist Manager : 319\n",
      "Remixlive - Remix loops with pads : 288\n",
      "QQ音乐HD : 224\n",
      "Blocs Wave - Make & Record Music : 158\n",
      "PlayGround • Music At Your Fingertips : 150\n",
      "Music and Chill : 135\n",
      "The Singing Machine Mobile Karaoke App : 130\n",
      "radio.de - Der Radioplayer : 64\n",
      "Free Music -  Player & Streamer  for Dropbox, OneDrive & Google Drive : 46\n",
      "NRJ Radio : 38\n",
      "Smart Music: Streaming Videos and Radio : 17\n",
      "BOSS Tuner : 13\n",
      "PetitLyrics : 0\n"
     ]
    }
   ],
   "source": [
    "for app in ios_final:\n",
    "    if app[-5] == 'Music':\n",
    "        print(app[1], \":\", app[5])"
   ]
  },
  {
   "cell_type": "markdown",
   "metadata": {},
   "source": [
    "Music apps are in the same situation where a few popular apps (Pandora, Spotify, Shazam, etc.) heavily influence the average number.\n",
    "\n",
    "We are trying to find popular genres, but due to a few apps that have as much as over ten times the number of reviews as the other apps within the same genre, these said genres might appear to be much more popular than they really are.\n",
    "\n",
    "Nonetheless, it does appear that entertainment apps dominate the App Store. Based on our findings, an app that could possibly do well on the App Store could be a navigation tool like Google Maps, but with built in music stations like Spotify, so someone on the road won't have to switch back and forth between two apps when listening to music while navigating."
   ]
  },
  {
   "cell_type": "markdown",
   "metadata": {},
   "source": [
    "## Most Popular Apps by Genre on Google Play"
   ]
  },
  {
   "cell_type": "markdown",
   "metadata": {},
   "source": [
    "For the Google Play market, we have data about the number of installs (unlike for the App Store), but the numbers are not too precise. In fact, the values are mostly open-ended (100+, 1,000+, 5,000+, etc.):"
   ]
  },
  {
   "cell_type": "code",
   "execution_count": 31,
   "metadata": {
    "collapsed": false
   },
   "outputs": [
    {
     "name": "stdout",
     "output_type": "stream",
     "text": [
      "1,000,000+ : 15.726534296028879\n",
      "100,000+ : 11.552346570397113\n",
      "10,000,000+ : 10.548285198555957\n",
      "10,000+ : 10.198555956678701\n",
      "1,000+ : 8.393501805054152\n",
      "100+ : 6.915613718411552\n",
      "5,000,000+ : 6.825361010830325\n",
      "500,000+ : 5.561823104693141\n",
      "50,000+ : 4.7721119133574\n",
      "5,000+ : 4.512635379061372\n",
      "10+ : 3.5424187725631766\n",
      "500+ : 3.2490974729241873\n",
      "50,000,000+ : 2.3014440433213\n",
      "100,000,000+ : 2.1322202166064983\n",
      "50+ : 1.917870036101083\n",
      "5+ : 0.78971119133574\n",
      "1+ : 0.5076714801444043\n",
      "500,000,000+ : 0.2707581227436823\n",
      "1,000,000,000+ : 0.22563176895306858\n",
      "0+ : 0.04512635379061372\n",
      "0 : 0.01128158844765343\n"
     ]
    }
   ],
   "source": [
    "# Installs columns\n",
    "display_table(android_final, 5)"
   ]
  },
  {
   "cell_type": "markdown",
   "metadata": {},
   "source": [
    "However, since we only want to find out which apps attract the most users, we don't need very precise data. We will assume apps with 100+ installs have 100 installs, apps with 100,000+ installs have 100,000 installs, apps with 1,000,000+ installs have 1,000,000 installs, and so on.\n",
    "\n",
    "In order to carry out computations, we will need to convert each install number from `string` to `float`. We will then compute the average number of installs for each app genre (or in our case, category)."
   ]
  },
  {
   "cell_type": "code",
   "execution_count": 32,
   "metadata": {
    "collapsed": false,
    "scrolled": true
   },
   "outputs": [
    {
     "name": "stdout",
     "output_type": "stream",
     "text": [
      "BEAUTY : 513151.88679245283\n",
      "HOUSE_AND_HOME : 1331540.5616438356\n",
      "PARENTING : 542603.6206896552\n",
      "EDUCATION : 1833495.145631068\n",
      "PRODUCTIVITY : 16787331.344927534\n",
      "COMMUNICATION : 38456119.167247385\n",
      "WEATHER : 5074486.197183099\n",
      "SPORTS : 3638640.1428571427\n",
      "EVENTS : 253542.22222222222\n",
      "ENTERTAINMENT : 11640705.88235294\n",
      "FINANCE : 1387692.475609756\n",
      "BOOKS_AND_REFERENCE : 8767811.894736841\n",
      "ART_AND_DESIGN : 1986335.0877192982\n",
      "FOOD_AND_DRINK : 1924897.7363636363\n",
      "PHOTOGRAPHY : 17840110.40229885\n",
      "LIBRARIES_AND_DEMO : 638503.734939759\n",
      "FAMILY : 3695641.8198090694\n",
      "MAPS_AND_NAVIGATION : 4056941.7741935486\n",
      "BUSINESS : 1712290.1474201474\n",
      "GAME : 15588015.603248259\n",
      "DATING : 854028.8303030303\n",
      "COMICS : 817657.2727272727\n",
      "MEDICAL : 120550.61980830671\n",
      "AUTO_AND_VEHICLES : 647317.8170731707\n",
      "PERSONALIZATION : 5201482.6122448975\n",
      "SHOPPING : 7036877.311557789\n",
      "LIFESTYLE : 1437816.2687861272\n",
      "TRAVEL_AND_LOCAL : 13984077.710144928\n",
      "NEWS_AND_MAGAZINES : 9549178.467741935\n",
      "VIDEO_PLAYERS : 24727872.452830188\n",
      "SOCIAL : 23253652.127118643\n",
      "TOOLS : 10801391.298666667\n",
      "HEALTH_AND_FITNESS : 4188821.9853479853\n"
     ]
    }
   ],
   "source": [
    "categories_android = freq_table(android_final, 1)\n",
    "\n",
    "for category in categories_android:\n",
    "    total = 0\n",
    "    len_category = 0\n",
    "    \n",
    "    for app in android_final:\n",
    "        category_app = app[1]\n",
    "        if category_app == category:\n",
    "            n_installs = app[5]\n",
    "            n_installs = n_installs.replace('+', '')\n",
    "            n_installs = n_installs.replace(',', '')\n",
    "            total += float(n_installs)\n",
    "            len_category += 1\n",
    "    \n",
    "    avg_n_installs = total / len_category\n",
    "    print(category, \":\", avg_n_installs)"
   ]
  },
  {
   "cell_type": "markdown",
   "metadata": {},
   "source": [
    "On average, it appears communication apps have the most installs: 38,456,119. This number, similar to what we saw with the App Store's app genres, might be heavily influenced by a select handful of more popular apps.\n",
    "\n",
    "Let's see which apps have over 100 million, 500 million, or 1 billion installs:"
   ]
  },
  {
   "cell_type": "code",
   "execution_count": 34,
   "metadata": {
    "collapsed": false
   },
   "outputs": [
    {
     "name": "stdout",
     "output_type": "stream",
     "text": [
      "WhatsApp Messenger : 1,000,000,000+\n",
      "imo beta free calls and text : 100,000,000+\n",
      "Android Messages : 100,000,000+\n",
      "Google Duo - High Quality Video Calls : 500,000,000+\n",
      "Messenger – Text and Video Chat for Free : 1,000,000,000+\n",
      "imo free video calls and chat : 500,000,000+\n",
      "Skype - free IM & video calls : 1,000,000,000+\n",
      "Who : 100,000,000+\n",
      "GO SMS Pro - Messenger, Free Themes, Emoji : 100,000,000+\n",
      "LINE: Free Calls & Messages : 500,000,000+\n",
      "Google Chrome: Fast & Secure : 1,000,000,000+\n",
      "Firefox Browser fast & private : 100,000,000+\n",
      "UC Browser - Fast Download Private & Secure : 500,000,000+\n",
      "Gmail : 1,000,000,000+\n",
      "Hangouts : 1,000,000,000+\n",
      "Messenger Lite: Free Calls & Messages : 100,000,000+\n",
      "Kik : 100,000,000+\n",
      "KakaoTalk: Free Calls & Text : 100,000,000+\n",
      "Opera Mini - fast web browser : 100,000,000+\n",
      "Opera Browser: Fast and Secure : 100,000,000+\n",
      "Telegram : 100,000,000+\n",
      "Truecaller: Caller ID, SMS spam blocking & Dialer : 100,000,000+\n",
      "UC Browser Mini -Tiny Fast Private & Secure : 100,000,000+\n",
      "Viber Messenger : 500,000,000+\n",
      "WeChat : 100,000,000+\n",
      "Yahoo Mail – Stay Organized : 100,000,000+\n",
      "BBM - Free Calls & Messages : 100,000,000+\n"
     ]
    }
   ],
   "source": [
    "for app in android_final:\n",
    "    if app[1] == 'COMMUNICATION' and (app[5] == '100,000,000+'\n",
    "                                     or app[5] == '500,000,000+'\n",
    "                                     or app[5] == '1,000,000,000+'):\n",
    "        print(app[0], \":\", app[5])"
   ]
  },
  {
   "cell_type": "markdown",
   "metadata": {},
   "source": [
    "As we can see, the number of installs for communication apps are heavily skewed by these apps, especially the apps with a billion or more installs (WhatsApp, Facebook Messenger, Skype, Google Chrome, Gmail, and Hangouts).\n",
    "\n",
    "Let's see the average number of installs for communications apps if we remove all the ones with over 100 million installs:"
   ]
  },
  {
   "cell_type": "code",
   "execution_count": 36,
   "metadata": {
    "collapsed": false
   },
   "outputs": [
    {
     "data": {
      "text/plain": [
       "3603485.3884615386"
      ]
     },
     "execution_count": 36,
     "metadata": {},
     "output_type": "execute_result"
    }
   ],
   "source": [
    "under100mil = []\n",
    "\n",
    "for app in android_final:\n",
    "    n_installs = app[5]\n",
    "    n_installs = n_installs.replace('+', '')\n",
    "    n_installs = n_installs.replace(',', '')\n",
    "    \n",
    "    if (app[1] == 'COMMUNICATION') and (float(n_installs) < 100000000):\n",
    "        under100mil.append(float(n_installs))\n",
    "        \n",
    "sum(under100mil) / len(under100mil)"
   ]
  },
  {
   "cell_type": "markdown",
   "metadata": {},
   "source": [
    "The original average number of installs for communication apps (38,456,119) is reduced to 3,603,485 after removing the communication apps with over 100 million installs. The average was reduced to less than ten percent of the original!\n",
    "\n",
    "If the patterns are anything like those of the App Store, we can assume a similar occurrence of app catergories with the higher average installs being heavily influenced by a few more popular apps within the categories for video players apps (24,727,872), social apps (23,253,652), photography apps (17,840,110), and productivity apps (16,787,331). As for games (15,588,015), the high average is just due to there being a high proportion of game apps to the total number of all apps.\n",
    "\n",
    "The next category for highest average number of installs is the travel and local category (13,984,077). Since our goal is to recommend an app genre/category with potential of being profitable on both the App Store and Google Play, and since we previously saw that navigation with music has possible potential, let's explore some of the travel and local apps as well as their number of installs."
   ]
  },
  {
   "cell_type": "code",
   "execution_count": 37,
   "metadata": {
    "collapsed": false
   },
   "outputs": [
    {
     "name": "stdout",
     "output_type": "stream",
     "text": [
      "trivago: Hotels & Travel : 50,000,000+\n",
      "Hopper - Watch & Book Flights : 5,000,000+\n",
      "TripIt: Travel Organizer : 1,000,000+\n",
      "Trip by Skyscanner - City & Travel Guide : 500,000+\n",
      "CityMaps2Go Plan Trips Travel Guide Offline Maps : 1,000,000+\n",
      "KAYAK Flights, Hotels & Cars : 10,000,000+\n",
      "World Travel Guide by Triposo : 500,000+\n",
      "Booking.com Travel Deals : 100,000,000+\n",
      "Hostelworld: Hostels & Cheap Hotels Travel App : 1,000,000+\n",
      "Google Trips - Travel Planner : 5,000,000+\n",
      "GPS Map Free : 5,000,000+\n",
      "GasBuddy: Find Cheap Gas : 10,000,000+\n",
      "Southwest Airlines : 5,000,000+\n",
      "AT&T Navigator: Maps, Traffic : 10,000,000+\n",
      "VZ Navigator : 50,000,000+\n",
      "KakaoMap - Map / Navigation : 10,000,000+\n",
      "AirAsia : 10,000,000+\n",
      "Expedia Hotels, Flights & Car Rental Travel Deals : 10,000,000+\n",
      "Goibibo - Flight Hotel Bus Car IRCTC Booking App : 10,000,000+\n",
      "Allegiant : 1,000,000+\n",
      "Amtrak : 1,000,000+\n",
      "JAL (Domestic and international flights) : 1,000,000+\n",
      "Flight & Hotel Booking App - ixigo : 5,000,000+\n",
      "VZ Navigator for Tablets : 500,000+\n",
      "TripAdvisor Hotels Flights Restaurants Attractions : 100,000,000+\n",
      "HSL - Tickets, route planner and information : 100,000+\n",
      "Wisepilot for XPERIA™ : 5,000,000+\n",
      "VZ Navigator for Galaxy S4 : 5,000,000+\n",
      "MAIN : 1,000,000+\n",
      "Yoriza Pension - travel, lodging, pension, camping, caravan, pool villas accommodation discount : 1,000,000+\n",
      "Foursquare Swarm: Check In : 10,000,000+\n",
      "PagesJaunes - local search : 10,000,000+\n",
      "Flightradar24 Flight Tracker : 10,000,000+\n",
      "Yatra - Flights, Hotels, Bus, Trains & Cabs : 10,000,000+\n",
      "SNCF : 5,000,000+\n",
      "Fly Delta : 5,000,000+\n",
      "Skyscanner : 10,000,000+\n",
      "Despegar.com Hotels and Flights : 10,000,000+\n",
      "Navigation Plus : 1,000,000+\n",
      "2GIS: directory & navigator : 50,000,000+\n",
      "Poynt : 5,000,000+\n",
      "Gaode Map : 1,000,000+\n",
      "Priceline Hotel Deals, Rental Cars & Flights : 5,000,000+\n",
      "TravelPirates : 1,000,000+\n",
      "Free Radar Detector : 1,000,000+\n",
      "American Airlines : 5,000,000+\n",
      "Where to travel - ticket. hotel. train ticket. car ticket. travel. tickets : 1,000,000+\n",
      "United Airlines : 5,000,000+\n",
      "NTES : 10,000,000+\n",
      "Where is my Train : Indian Railway & PNR Status : 10,000,000+\n",
      "MakeMyTrip-Flight Hotel Bus Cab IRCTC Rail Booking : 10,000,000+\n",
      "Restaurant Finder : 1,000,000+\n",
      "Zagat : 100,000+\n",
      "Gormey: Find Best Restaurants : 1,000+\n",
      "Find Dining Restaurant Finder : 100,000+\n",
      "Urbanspoon Restaurant Reviews : 5,000,000+\n",
      "Yelp: Food, Shopping, Services Nearby : 10,000,000+\n",
      "Qatar Airways : 1,000,000+\n",
      "Hipmunk Hotels & Flights : 1,000,000+\n",
      "Skiplagged — Exclusive Flights & Hotels : 1,000,000+\n",
      "CWT To Go : 100,000+\n",
      "British Airways : 1,000,000+\n",
      "Cheap Flights & Hotels momondo : 5,000,000+\n",
      "CheapTickets – Hotels, Flights & Travel Deals : 1,000,000+\n",
      "JetBlue : 1,000,000+\n",
      "Flights : 1,000,000+\n",
      "Cheapflights – Flight Search : 5,000,000+\n",
      "KLM - Royal Dutch Airlines : 1,000,000+\n",
      "Orbitz - Hotels, Flights & Package Deals : 1,000,000+\n",
      "Lufthansa : 1,000,000+\n",
      "easyJet: Travel App : 10,000,000+\n",
      "IndiGo : 5,000,000+\n",
      "LateRooms: Find Hotel Deals : 1,000,000+\n",
      "Choice Hotels : 1,000,000+\n",
      "Couchsurfing Travel App : 1,000,000+\n",
      "Hotwire Hotel & Car Rental App : 1,000,000+\n",
      "HOTEL DEALS : 100,000+\n",
      "HomeAway Vacation Rentals : 5,000,000+\n",
      "IHG®: Hotel Deals & Rewards : 1,000,000+\n",
      "SPG: Starwood Hotels & Resorts : 1,000,000+\n",
      "Hotels.com: Book Hotel Rooms & Find Vacation Deals : 10,000,000+\n",
      "HotelTonight: Book amazing deals at great hotels : 5,000,000+\n",
      "Airbnb : 10,000,000+\n",
      "Hotels Combined - Cheap deals : 5,000,000+\n",
      "Agoda – Hotel Booking Deals : 10,000,000+\n",
      "Turo - Better Than Car Rental : 1,000,000+\n",
      "Ascape VR: 360° Virtual Travel : 100,000+\n",
      "Cheap hotel deals and discounts — Hotellook : 1,000,000+\n",
      "Maps - Navigate & Explore : 1,000,000,000+\n",
      "GPS Status & Toolbox : 10,000,000+\n",
      "Airport + Flight Tracker Radar : 1,000,000+\n",
      "Scout GPS Navigation & Meet Up : 5,000,000+\n",
      "Street Panorama View : 1,000,000+\n",
      "Geo Tracker - GPS tracker : 1,000,000+\n",
      "DreamTrips : 500,000+\n",
      "Navmii GPS USA (Navfree) : 500,000+\n",
      "Sygic Truck GPS Navigation : 1,000,000+\n",
      "Google Street View : 1,000,000,000+\n",
      "Air Transat CinePlus B : 50,000+\n",
      "U-Haul : 100,000+\n",
      "Octo U: Your driving companion : 50,000+\n",
      "Flexiroam X : 100,000+\n",
      "Connect.ae - Local Search UAE : 10,000+\n",
      "Toppen af Danmark : 5,000+\n",
      "Alabama Road Trips : 10,000+\n",
      "Official AL Fishing & Hunting : 50,000+\n",
      "Where Am I At? : 10,000+\n",
      "Where Am I? GPS Loc : 10,000+\n",
      "Live Camera Viewer ★ World Webcam & IP Cam Streams : 10,000,000+\n",
      "Portal AR - Step Into Scotland : 5,000+\n",
      "Casino AZ/Talking Stick Resort : 10,000+\n",
      "Explore Sedona & Northern AZ : 10,000+\n",
      "Arizona Trail : 5,000+\n",
      "Phoenix and Arizona Cameras : 10,000+\n",
      "Experience BA : 100+\n",
      "BA Status : 100+\n",
      "Avios for Android : 100,000+\n",
      "Explore British Columbia - BC Travel Guide : 500+\n",
      "BC Highways - Road Conditions : 10,000+\n",
      "Victoria, BC | Tour City : 1,000+\n",
      "British Columbia Tourist Places (Guide) : 100+\n",
      "BG Metro - Red voznje : 1,000+\n",
      "BG Guide : 100+\n",
      "trip.bg : 1,000+\n",
      "Belo Horizonte Map offline : 1,000+\n",
      "BH Mission Playbook : 100+\n",
      "BH Rocking : 100+\n",
      "Digital Tourist BH Itinerary : 500+\n",
      "BL info : 5,000+\n",
      "BPme - Mobile Fuel Payment & BP Driver Rewards app : 10,000+\n",
      "Wherever BQ : 50+\n",
      "BU Dental GoGoldman : 100+\n",
      "BU Questrom Launch : 100+\n",
      "BU School of Public Health : 10+\n",
      "BV Aventure : 100+\n",
      "BV Rando : 100+\n",
      "Best Western To Go : 100,000+\n",
      "BW Map mobile : 10,000+\n",
      "Best Western e-Concierge Hotel : 10,000+\n",
      "24/7 BZ Reis : 100,000+\n",
      "BZ Vesper-App : 1,000+\n",
      "Restaurantführer Südbaden : 1,000+\n",
      "BZ Straußenführer : 10,000+\n",
      "California Cameras - Traffic : 10,000+\n",
      "Kiosque CD : 5+\n",
      "US 115th CD : 5+\n",
      "CE AH VLJ : 1,000+\n",
      "search.ch : 500,000+\n",
      "CJ's Coffee Cafe : 500+\n",
      "Camping and Co - Camping in Europe : 1,000+\n",
      "CQ Hotels : 10,000+\n",
      "SHUTTLLS CQ - Connect Ride Go : 5+\n",
      "Cathay Pacific : 1,000,000+\n",
      "Map of Cyprus offline : 10,000+\n",
      "DB BAHN : 500+\n",
      "DB FahrtProfi : 1,000+\n",
      "DC Metro Transit - Free : 500,000+\n",
      "DC Trails-Hop On Hop Off Tours : 5,000+\n",
      "Can I pack that? - DG App : 10,000+\n",
      "DG Cars : 10,000+\n",
      "DK Eyewitness Audio Walks : 1,000+\n",
      "DM Transfers Dalaman Transfers : 10,000+\n",
      "US DV Lottery 2020 Apply : 10,000+\n",
      "US DV Lottery 2019 : 1,000+\n",
      "DW Maps : 10,000+\n",
      "junainfo.dy.fi : 100+\n",
      "Siyaha Dz : 10,000+\n",
      "IRIS : Customer Service - DZ Algeria : 1,000+\n",
      "DZ Fly Algérie Horaire Vols : 10,000+\n",
      "EA Plus : 1,000+\n",
      "EB Events : 10,000+\n",
      "Audiowalk EB : 10+\n",
      "EF Go Ahead Tour Companion : 1,000+\n",
      "EF Summits : 100+\n",
      "EG SIM CARD (EGSIMCARD) : 10,000+\n",
      "The Emirates App : 1,000,000+\n",
      "Ek-yatri: Travel where you Belong : 1+\n",
      "EL AL Flights : 100,000+\n",
      "DreamStream By EL AL : 100,000+\n",
      "El Dorado App : 10,000+\n",
      "EO Hotels : 100+\n",
      "Fill 'er Up : 5,000+\n",
      "MAPS.ME – Offline Map and Travel Navigation : 50,000,000+\n",
      "Google Earth : 100,000,000+\n",
      "Offline Maps & Navigation : 5,000,000+\n",
      "myLPG.eu : 50,000+\n",
      "Passenger rights : 50,000+\n",
      "taxi.eu : 100,000+\n",
      "To-U - free EV public charging : 1,000+\n",
      "Bird - Enjoy The Ride : 500,000+\n",
      "eCooltra: scooter sharing. Share electric scooters : 100,000+\n",
      "XE Currency : 10,000,000+\n",
      "Etihad Airways : 500,000+\n",
      "EZ TAG Express : 10,000+\n",
      "Santa Fe Map and Walks : 1,000+\n",
      "Santa Fe VIP Tours : 100+\n",
      "Toyota Cruisers & Trucks Mag : 500+\n",
      "FL State Parks Guide : 100,000+\n",
      "Florida Travel Guide : 1,000+\n",
      "The Florida Trail Guide : 5,000+\n",
      "Florida Keys : 10,000+\n",
      "Florida Travel Guide - TOURIAS : 10,000+\n",
      "Florida map : 5,000+\n",
      "Florida Beach Wallpapers HD : 100+\n",
      "ORLANDO FLORIDA MAP : 1,000+\n",
      "Florida Offline Road Map : 10,000+\n",
      "Florida Map offline : 1,000+\n"
     ]
    }
   ],
   "source": [
    "for app in android_final:\n",
    "    if app[1] == 'TRAVEL_AND_LOCAL':\n",
    "        print(app[0], \":\", app[5])"
   ]
  },
  {
   "cell_type": "markdown",
   "metadata": {},
   "source": [
    "Let's see how many of these apps could be possibly skewing our average number of installs:"
   ]
  },
  {
   "cell_type": "code",
   "execution_count": 38,
   "metadata": {
    "collapsed": false
   },
   "outputs": [
    {
     "name": "stdout",
     "output_type": "stream",
     "text": [
      "Booking.com Travel Deals : 100,000,000+\n",
      "TripAdvisor Hotels Flights Restaurants Attractions : 100,000,000+\n",
      "Maps - Navigate & Explore : 1,000,000,000+\n",
      "Google Street View : 1,000,000,000+\n",
      "Google Earth : 100,000,000+\n"
     ]
    }
   ],
   "source": [
    "for app in android_final:\n",
    "    if app[1] == 'TRAVEL_AND_LOCAL' and (app[5] == '1,000,000,000+'\n",
    "                                            or app[5] == '500,000,000+'\n",
    "                                            or app[5] == '100,000,000+'):\n",
    "        print(app[0], ':', app[5])"
   ]
  },
  {
   "cell_type": "markdown",
   "metadata": {},
   "source": [
    "As we can see, there are only 5 apps of the travel and local category that are highly popular with over 100 million installs. Let's see which apps are decently popular (1 million to 100 million installs):"
   ]
  },
  {
   "cell_type": "code",
   "execution_count": 39,
   "metadata": {
    "collapsed": false
   },
   "outputs": [
    {
     "name": "stdout",
     "output_type": "stream",
     "text": [
      "trivago: Hotels & Travel : 50,000,000+\n",
      "Hopper - Watch & Book Flights : 5,000,000+\n",
      "TripIt: Travel Organizer : 1,000,000+\n",
      "CityMaps2Go Plan Trips Travel Guide Offline Maps : 1,000,000+\n",
      "KAYAK Flights, Hotels & Cars : 10,000,000+\n",
      "Hostelworld: Hostels & Cheap Hotels Travel App : 1,000,000+\n",
      "Google Trips - Travel Planner : 5,000,000+\n",
      "GPS Map Free : 5,000,000+\n",
      "GasBuddy: Find Cheap Gas : 10,000,000+\n",
      "Southwest Airlines : 5,000,000+\n",
      "AT&T Navigator: Maps, Traffic : 10,000,000+\n",
      "VZ Navigator : 50,000,000+\n",
      "KakaoMap - Map / Navigation : 10,000,000+\n",
      "AirAsia : 10,000,000+\n",
      "Expedia Hotels, Flights & Car Rental Travel Deals : 10,000,000+\n",
      "Goibibo - Flight Hotel Bus Car IRCTC Booking App : 10,000,000+\n",
      "Allegiant : 1,000,000+\n",
      "Amtrak : 1,000,000+\n",
      "JAL (Domestic and international flights) : 1,000,000+\n",
      "Flight & Hotel Booking App - ixigo : 5,000,000+\n",
      "Wisepilot for XPERIA™ : 5,000,000+\n",
      "VZ Navigator for Galaxy S4 : 5,000,000+\n",
      "MAIN : 1,000,000+\n",
      "Yoriza Pension - travel, lodging, pension, camping, caravan, pool villas accommodation discount : 1,000,000+\n",
      "Foursquare Swarm: Check In : 10,000,000+\n",
      "PagesJaunes - local search : 10,000,000+\n",
      "Flightradar24 Flight Tracker : 10,000,000+\n",
      "Yatra - Flights, Hotels, Bus, Trains & Cabs : 10,000,000+\n",
      "SNCF : 5,000,000+\n",
      "Fly Delta : 5,000,000+\n",
      "Skyscanner : 10,000,000+\n",
      "Despegar.com Hotels and Flights : 10,000,000+\n",
      "Navigation Plus : 1,000,000+\n",
      "2GIS: directory & navigator : 50,000,000+\n",
      "Poynt : 5,000,000+\n",
      "Gaode Map : 1,000,000+\n",
      "Priceline Hotel Deals, Rental Cars & Flights : 5,000,000+\n",
      "TravelPirates : 1,000,000+\n",
      "Free Radar Detector : 1,000,000+\n",
      "American Airlines : 5,000,000+\n",
      "Where to travel - ticket. hotel. train ticket. car ticket. travel. tickets : 1,000,000+\n",
      "United Airlines : 5,000,000+\n",
      "NTES : 10,000,000+\n",
      "Where is my Train : Indian Railway & PNR Status : 10,000,000+\n",
      "MakeMyTrip-Flight Hotel Bus Cab IRCTC Rail Booking : 10,000,000+\n",
      "Restaurant Finder : 1,000,000+\n",
      "Urbanspoon Restaurant Reviews : 5,000,000+\n",
      "Yelp: Food, Shopping, Services Nearby : 10,000,000+\n",
      "Qatar Airways : 1,000,000+\n",
      "Hipmunk Hotels & Flights : 1,000,000+\n",
      "Skiplagged — Exclusive Flights & Hotels : 1,000,000+\n",
      "British Airways : 1,000,000+\n",
      "Cheap Flights & Hotels momondo : 5,000,000+\n",
      "CheapTickets – Hotels, Flights & Travel Deals : 1,000,000+\n",
      "JetBlue : 1,000,000+\n",
      "Flights : 1,000,000+\n",
      "Cheapflights – Flight Search : 5,000,000+\n",
      "KLM - Royal Dutch Airlines : 1,000,000+\n",
      "Orbitz - Hotels, Flights & Package Deals : 1,000,000+\n",
      "Lufthansa : 1,000,000+\n",
      "easyJet: Travel App : 10,000,000+\n",
      "IndiGo : 5,000,000+\n",
      "LateRooms: Find Hotel Deals : 1,000,000+\n",
      "Choice Hotels : 1,000,000+\n",
      "Couchsurfing Travel App : 1,000,000+\n",
      "Hotwire Hotel & Car Rental App : 1,000,000+\n",
      "HomeAway Vacation Rentals : 5,000,000+\n",
      "IHG®: Hotel Deals & Rewards : 1,000,000+\n",
      "SPG: Starwood Hotels & Resorts : 1,000,000+\n",
      "Hotels.com: Book Hotel Rooms & Find Vacation Deals : 10,000,000+\n",
      "HotelTonight: Book amazing deals at great hotels : 5,000,000+\n",
      "Airbnb : 10,000,000+\n",
      "Hotels Combined - Cheap deals : 5,000,000+\n",
      "Agoda – Hotel Booking Deals : 10,000,000+\n",
      "Turo - Better Than Car Rental : 1,000,000+\n",
      "Cheap hotel deals and discounts — Hotellook : 1,000,000+\n",
      "GPS Status & Toolbox : 10,000,000+\n",
      "Airport + Flight Tracker Radar : 1,000,000+\n",
      "Scout GPS Navigation & Meet Up : 5,000,000+\n",
      "Street Panorama View : 1,000,000+\n",
      "Geo Tracker - GPS tracker : 1,000,000+\n",
      "Sygic Truck GPS Navigation : 1,000,000+\n",
      "Live Camera Viewer ★ World Webcam & IP Cam Streams : 10,000,000+\n",
      "Cathay Pacific : 1,000,000+\n",
      "The Emirates App : 1,000,000+\n",
      "MAPS.ME – Offline Map and Travel Navigation : 50,000,000+\n",
      "Offline Maps & Navigation : 5,000,000+\n",
      "XE Currency : 10,000,000+\n"
     ]
    }
   ],
   "source": [
    "for app in android_final:\n",
    "    if app[1] == 'TRAVEL_AND_LOCAL' and (app[5] == '1,000,000+'\n",
    "                                        or app[5] == '5,000,000+'\n",
    "                                        or app[5] == '10,000,000+'\n",
    "                                        or app[5] == '50,000,000+'):\n",
    "        print(app[0], \":\", app[5])"
   ]
  },
  {
   "cell_type": "markdown",
   "metadata": {},
   "source": [
    "Among the travel and local apps with between 1 million to 100 million installs, there appears to many apps for booking hotels, booking flights, and for navigating. These will be our competition if we decide to build an app too similar.\n",
    "\n",
    "There are already plenty of navigators available on the market, so to make ours stand out, we would need to add features that are, let's say, roadtrip friendly. We can add a music feature such as an incorporated radio station. There could be a special tab that lists popular music artists in the area you're traveling in so you could switch to those artists' radio stations and immerse yourself in your destination's culture. There could also be a tab for most recommended restaurants in the area, closest gas stations or public restrooms, etc."
   ]
  },
  {
   "cell_type": "markdown",
   "metadata": {},
   "source": [
    "## Conclusions\n",
    "\n",
    "In this project, we analyzed data about the App Store and Google Play mobile apps (specifically English apps) with the goal of recommending an app profile that can be profitable for both markets.\n",
    "\n",
    "We concluded that making a navigation app with special features could be profitable for both the App Store and Google Play markets. Since the markets already have plenty of navigation apps, we would need to make ours different and more desirable. This could include adding a music feature that lists popular music in your travel destination, so you could switch to that music's radio stations (in the navigation app) and immerse yourself in your destination's culture. There could also be a feature that displays most recommended restaurants in the area, closest gas stations, cleanest (as rated by public app users) public restrooms, etc."
   ]
  }
 ],
 "metadata": {
  "kernelspec": {
   "display_name": "Python 3",
   "language": "python",
   "name": "python3"
  },
  "language_info": {
   "codemirror_mode": {
    "name": "ipython",
    "version": 3
   },
   "file_extension": ".py",
   "mimetype": "text/x-python",
   "name": "python",
   "nbconvert_exporter": "python",
   "pygments_lexer": "ipython3",
   "version": "3.4.3"
  }
 },
 "nbformat": 4,
 "nbformat_minor": 2
}
